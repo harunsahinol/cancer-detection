{
  "cells": [
    {
      "cell_type": "markdown",
      "metadata": {
        "id": "view-in-github",
        "colab_type": "text"
      },
      "source": [
        "<a href=\"https://colab.research.google.com/github/harunsahinol/cancer-detection/blob/main/AmendedGC_Project_Machine_Learning_Cancer_Detection_by_Deep_Neural_Networks_2024.ipynb\" target=\"_parent\"><img src=\"https://colab.research.google.com/assets/colab-badge.svg\" alt=\"Open In Colab\"/></a>"
      ]
    },
    {
      "cell_type": "markdown",
      "metadata": {
        "id": "2BEyHPIPYX0A"
      },
      "source": [
        "# Cancer Detection by  Deep Neural Networks\n",
        "\n",
        "# In this project, you should try to change the activation functions, number of epochs, and number of dense layers, try two different optimizers such as sgd and nadam, and compare the results with the original notebook. That is to see if your classification report has improved. For each project, you should write a one-page report for each part explaining how you have changed the existing model. Then, you should put your notebook and report in Google Drive and send the link to me via WhatsApp. Your link must be open. This should be submitted before 4 PM next Wednesday( May 23, 2024).\n",
        "\n"
      ]
    },
    {
      "cell_type": "markdown",
      "metadata": {
        "id": "2UbZ3OZnYX0H"
      },
      "source": [
        "# Project 1"
      ]
    },
    {
      "cell_type": "code",
      "execution_count": 1,
      "metadata": {
        "id": "Sj60Kdk9YX0I"
      },
      "outputs": [],
      "source": [
        "import keras"
      ]
    },
    {
      "cell_type": "code",
      "execution_count": 2,
      "metadata": {
        "id": "qfCgSbewYX0L"
      },
      "outputs": [],
      "source": [
        "from sklearn.datasets import load_breast_cancer"
      ]
    },
    {
      "cell_type": "code",
      "execution_count": 3,
      "metadata": {
        "id": "bdIGRM0TYX0M"
      },
      "outputs": [],
      "source": [
        " cancer = load_breast_cancer()"
      ]
    },
    {
      "cell_type": "code",
      "execution_count": 4,
      "metadata": {
        "id": "99q43YGZYX0M"
      },
      "outputs": [],
      "source": [
        "X_train = cancer.data[:340]"
      ]
    },
    {
      "cell_type": "code",
      "execution_count": 5,
      "metadata": {
        "id": "oC4ibGCCYX0N"
      },
      "outputs": [],
      "source": [
        "y_train = cancer.target[:340]"
      ]
    },
    {
      "cell_type": "code",
      "execution_count": 6,
      "metadata": {
        "id": "4ib0vOR4YX0O"
      },
      "outputs": [],
      "source": [
        "X_test = cancer.data[340:]"
      ]
    },
    {
      "cell_type": "code",
      "execution_count": 7,
      "metadata": {
        "id": "rqjrqXdeYX0O"
      },
      "outputs": [],
      "source": [
        " y_test = cancer.target[340:]"
      ]
    },
    {
      "cell_type": "code",
      "execution_count": 8,
      "metadata": {
        "id": "YWdk-gt_YX0P"
      },
      "outputs": [],
      "source": [
        "import numpy as np\n",
        "from keras.models import Sequential\n",
        "from keras.layers import Dense, Dropout"
      ]
    },
    {
      "cell_type": "code",
      "execution_count": 9,
      "metadata": {
        "id": "4Lkg3wJqYX0P"
      },
      "outputs": [],
      "source": [
        "model = Sequential()\n",
        "model.add(Dense(25, input_dim=30, activation='relu'))\n",
        "model.add(Dense(1, activation='sigmoid'))\n"
      ]
    },
    {
      "cell_type": "code",
      "execution_count": 10,
      "metadata": {
        "id": "D6NHyeuVYX0Q"
      },
      "outputs": [],
      "source": [
        " model.compile(loss='binary_crossentropy', optimizer='adam', metrics=['accuracy'])"
      ]
    },
    {
      "cell_type": "code",
      "execution_count": 11,
      "metadata": {
        "colab": {
          "base_uri": "https://localhost:8080/"
        },
        "id": "gv4C9JSuYX0R",
        "outputId": "99dc9efb-a639-4764-8af7-db0c5307b4f6"
      },
      "outputs": [
        {
          "output_type": "stream",
          "name": "stdout",
          "text": [
            "Epoch 1/30\n",
            "6/6 [==============================] - 5s 10ms/step - loss: 72.7932 - accuracy: 0.4618\n",
            "Epoch 2/30\n",
            "6/6 [==============================] - 0s 8ms/step - loss: 52.0071 - accuracy: 0.4618\n",
            "Epoch 3/30\n",
            "6/6 [==============================] - 0s 9ms/step - loss: 31.7992 - accuracy: 0.4618\n",
            "Epoch 4/30\n",
            "6/6 [==============================] - 0s 8ms/step - loss: 12.4433 - accuracy: 0.4500\n",
            "Epoch 5/30\n",
            "6/6 [==============================] - 0s 6ms/step - loss: 11.8351 - accuracy: 0.5324\n",
            "Epoch 6/30\n",
            "6/6 [==============================] - 0s 10ms/step - loss: 6.9870 - accuracy: 0.4824\n",
            "Epoch 7/30\n",
            "6/6 [==============================] - 0s 7ms/step - loss: 6.6801 - accuracy: 0.4706\n",
            "Epoch 8/30\n",
            "6/6 [==============================] - 0s 8ms/step - loss: 5.0602 - accuracy: 0.5088\n",
            "Epoch 9/30\n",
            "6/6 [==============================] - 0s 6ms/step - loss: 4.4058 - accuracy: 0.5441\n",
            "Epoch 10/30\n",
            "6/6 [==============================] - 0s 10ms/step - loss: 3.4337 - accuracy: 0.5529\n",
            "Epoch 11/30\n",
            "6/6 [==============================] - 0s 8ms/step - loss: 3.2928 - accuracy: 0.5735\n",
            "Epoch 12/30\n",
            "6/6 [==============================] - 0s 7ms/step - loss: 2.6132 - accuracy: 0.6206\n",
            "Epoch 13/30\n",
            "6/6 [==============================] - 0s 6ms/step - loss: 2.3803 - accuracy: 0.6382\n",
            "Epoch 14/30\n",
            "6/6 [==============================] - 0s 5ms/step - loss: 2.0918 - accuracy: 0.6500\n",
            "Epoch 15/30\n",
            "6/6 [==============================] - 0s 11ms/step - loss: 1.8504 - accuracy: 0.6706\n",
            "Epoch 16/30\n",
            "6/6 [==============================] - 0s 13ms/step - loss: 1.6747 - accuracy: 0.6882\n",
            "Epoch 17/30\n",
            "6/6 [==============================] - 0s 8ms/step - loss: 1.5478 - accuracy: 0.7059\n",
            "Epoch 18/30\n",
            "6/6 [==============================] - 0s 8ms/step - loss: 1.4174 - accuracy: 0.7265\n",
            "Epoch 19/30\n",
            "6/6 [==============================] - 0s 8ms/step - loss: 1.3250 - accuracy: 0.7353\n",
            "Epoch 20/30\n",
            "6/6 [==============================] - 0s 6ms/step - loss: 1.2142 - accuracy: 0.7412\n",
            "Epoch 21/30\n",
            "6/6 [==============================] - 0s 7ms/step - loss: 1.1411 - accuracy: 0.7500\n",
            "Epoch 22/30\n",
            "6/6 [==============================] - 0s 5ms/step - loss: 1.0498 - accuracy: 0.7676\n",
            "Epoch 23/30\n",
            "6/6 [==============================] - 0s 6ms/step - loss: 0.9998 - accuracy: 0.7794\n",
            "Epoch 24/30\n",
            "6/6 [==============================] - 0s 7ms/step - loss: 0.9264 - accuracy: 0.7912\n",
            "Epoch 25/30\n",
            "6/6 [==============================] - 0s 6ms/step - loss: 0.8709 - accuracy: 0.8000\n",
            "Epoch 26/30\n",
            "6/6 [==============================] - 0s 6ms/step - loss: 0.8251 - accuracy: 0.7971\n",
            "Epoch 27/30\n",
            "6/6 [==============================] - 0s 8ms/step - loss: 0.7795 - accuracy: 0.8029\n",
            "Epoch 28/30\n",
            "6/6 [==============================] - 0s 7ms/step - loss: 0.7495 - accuracy: 0.7971\n",
            "Epoch 29/30\n",
            "6/6 [==============================] - 0s 10ms/step - loss: 0.6903 - accuracy: 0.8176\n",
            "Epoch 30/30\n",
            "6/6 [==============================] - 0s 6ms/step - loss: 0.6691 - accuracy: 0.8118\n"
          ]
        },
        {
          "output_type": "execute_result",
          "data": {
            "text/plain": [
              "<keras.src.callbacks.History at 0x7bc49629f790>"
            ]
          },
          "metadata": {},
          "execution_count": 11
        }
      ],
      "source": [
        "model.fit(X_train, y_train, epochs=30, batch_size=60)"
      ]
    },
    {
      "cell_type": "code",
      "execution_count": 12,
      "metadata": {
        "colab": {
          "base_uri": "https://localhost:8080/"
        },
        "id": "AUHElin8YX0R",
        "outputId": "a75e345b-5f97-46af-a8b0-63b1f93e472f"
      },
      "outputs": [
        {
          "output_type": "stream",
          "name": "stdout",
          "text": [
            "8/8 [==============================] - 0s 8ms/step\n"
          ]
        }
      ],
      "source": [
        "predictions = np.argmax(model.predict(X_test), axis=-1)"
      ]
    },
    {
      "cell_type": "code",
      "execution_count": 13,
      "metadata": {
        "id": "_7hU91b2YX0R"
      },
      "outputs": [],
      "source": [
        "from sklearn import metrics"
      ]
    },
    {
      "cell_type": "code",
      "execution_count": 14,
      "metadata": {
        "colab": {
          "base_uri": "https://localhost:8080/"
        },
        "id": "IpljXVQ0YX0S",
        "outputId": "21aae79a-c164-4073-dcb9-384394063345"
      },
      "outputs": [
        {
          "output_type": "stream",
          "name": "stdout",
          "text": [
            "Accuracy: 0.24017467248908297\n"
          ]
        }
      ],
      "source": [
        "print('Accuracy:', metrics.accuracy_score(y_true=y_test, y_pred=predictions))"
      ]
    },
    {
      "cell_type": "code",
      "execution_count": 15,
      "metadata": {
        "colab": {
          "base_uri": "https://localhost:8080/"
        },
        "id": "6fPzRRa5YX0S",
        "outputId": "9424a94a-19c8-485c-867d-a96f8a11ce99"
      },
      "outputs": [
        {
          "output_type": "stream",
          "name": "stdout",
          "text": [
            "              precision    recall  f1-score   support\n",
            "\n",
            "           0       0.24      1.00      0.39        55\n",
            "           1       0.00      0.00      0.00       174\n",
            "\n",
            "    accuracy                           0.24       229\n",
            "   macro avg       0.12      0.50      0.19       229\n",
            "weighted avg       0.06      0.24      0.09       229\n",
            "\n"
          ]
        },
        {
          "output_type": "stream",
          "name": "stderr",
          "text": [
            "/usr/local/lib/python3.10/dist-packages/sklearn/metrics/_classification.py:1344: UndefinedMetricWarning: Precision and F-score are ill-defined and being set to 0.0 in labels with no predicted samples. Use `zero_division` parameter to control this behavior.\n",
            "  _warn_prf(average, modifier, msg_start, len(result))\n",
            "/usr/local/lib/python3.10/dist-packages/sklearn/metrics/_classification.py:1344: UndefinedMetricWarning: Precision and F-score are ill-defined and being set to 0.0 in labels with no predicted samples. Use `zero_division` parameter to control this behavior.\n",
            "  _warn_prf(average, modifier, msg_start, len(result))\n",
            "/usr/local/lib/python3.10/dist-packages/sklearn/metrics/_classification.py:1344: UndefinedMetricWarning: Precision and F-score are ill-defined and being set to 0.0 in labels with no predicted samples. Use `zero_division` parameter to control this behavior.\n",
            "  _warn_prf(average, modifier, msg_start, len(result))\n"
          ]
        }
      ],
      "source": [
        "print(metrics.classification_report(y_true=y_test, y_pred=predictions))\n"
      ]
    },
    {
      "cell_type": "markdown",
      "metadata": {
        "id": "IkDgzlGvYX0T"
      },
      "source": [
        "# Project 2"
      ]
    },
    {
      "cell_type": "code",
      "execution_count": 16,
      "metadata": {
        "colab": {
          "base_uri": "https://localhost:8080/"
        },
        "id": "PhsIjQSKYX0T",
        "outputId": "399944eb-6821-494a-ee2d-8300c0539cc2"
      },
      "outputs": [
        {
          "output_type": "stream",
          "name": "stdout",
          "text": [
            "Epoch 1/30\n",
            "6/6 [==============================] - 6s 12ms/step - loss: 13.2075 - accuracy: 0.4618\n",
            "Epoch 2/30\n",
            "6/6 [==============================] - 0s 10ms/step - loss: 8.1403 - accuracy: 0.4618\n",
            "Epoch 3/30\n",
            "6/6 [==============================] - 0s 7ms/step - loss: 4.5901 - accuracy: 0.4618\n",
            "Epoch 4/30\n",
            "6/6 [==============================] - 0s 12ms/step - loss: 1.8532 - accuracy: 0.4618\n",
            "Epoch 5/30\n",
            "6/6 [==============================] - 0s 8ms/step - loss: 0.5028 - accuracy: 0.7206\n",
            "Epoch 6/30\n",
            "6/6 [==============================] - 0s 10ms/step - loss: 0.7415 - accuracy: 0.7588\n",
            "Epoch 7/30\n",
            "6/6 [==============================] - 0s 9ms/step - loss: 0.5553 - accuracy: 0.8176\n",
            "Epoch 8/30\n",
            "6/6 [==============================] - 0s 8ms/step - loss: 0.3602 - accuracy: 0.9029\n",
            "Epoch 9/30\n",
            "6/6 [==============================] - 0s 8ms/step - loss: 0.3849 - accuracy: 0.8647\n",
            "Epoch 10/30\n",
            "6/6 [==============================] - 0s 8ms/step - loss: 0.3622 - accuracy: 0.8853\n",
            "Epoch 11/30\n",
            "6/6 [==============================] - 0s 9ms/step - loss: 0.3152 - accuracy: 0.9088\n",
            "Epoch 12/30\n",
            "6/6 [==============================] - 0s 9ms/step - loss: 0.2993 - accuracy: 0.9118\n",
            "Epoch 13/30\n",
            "6/6 [==============================] - 0s 9ms/step - loss: 0.2850 - accuracy: 0.9176\n",
            "Epoch 14/30\n",
            "6/6 [==============================] - 0s 7ms/step - loss: 0.2684 - accuracy: 0.9235\n",
            "Epoch 15/30\n",
            "6/6 [==============================] - 0s 8ms/step - loss: 0.2690 - accuracy: 0.9147\n",
            "Epoch 16/30\n",
            "6/6 [==============================] - 0s 8ms/step - loss: 0.2518 - accuracy: 0.9265\n",
            "Epoch 17/30\n",
            "6/6 [==============================] - 0s 12ms/step - loss: 0.2503 - accuracy: 0.9206\n",
            "Epoch 18/30\n",
            "6/6 [==============================] - 0s 7ms/step - loss: 0.2412 - accuracy: 0.9235\n",
            "Epoch 19/30\n",
            "6/6 [==============================] - 0s 8ms/step - loss: 0.2343 - accuracy: 0.9353\n",
            "Epoch 20/30\n",
            "6/6 [==============================] - 0s 7ms/step - loss: 0.2343 - accuracy: 0.9294\n",
            "Epoch 21/30\n",
            "6/6 [==============================] - 0s 10ms/step - loss: 0.2301 - accuracy: 0.9265\n",
            "Epoch 22/30\n",
            "6/6 [==============================] - 0s 9ms/step - loss: 0.2240 - accuracy: 0.9265\n",
            "Epoch 23/30\n",
            "6/6 [==============================] - 0s 10ms/step - loss: 0.2228 - accuracy: 0.9294\n",
            "Epoch 24/30\n",
            "6/6 [==============================] - 0s 12ms/step - loss: 0.2193 - accuracy: 0.9324\n",
            "Epoch 25/30\n",
            "6/6 [==============================] - 0s 9ms/step - loss: 0.2196 - accuracy: 0.9294\n",
            "Epoch 26/30\n",
            "6/6 [==============================] - 0s 9ms/step - loss: 0.2192 - accuracy: 0.9265\n",
            "Epoch 27/30\n",
            "6/6 [==============================] - 0s 8ms/step - loss: 0.2131 - accuracy: 0.9353\n",
            "Epoch 28/30\n",
            "6/6 [==============================] - 0s 8ms/step - loss: 0.2164 - accuracy: 0.9324\n",
            "Epoch 29/30\n",
            "6/6 [==============================] - 0s 8ms/step - loss: 0.2105 - accuracy: 0.9353\n",
            "Epoch 30/30\n",
            "6/6 [==============================] - 0s 8ms/step - loss: 0.2141 - accuracy: 0.9324\n"
          ]
        },
        {
          "output_type": "execute_result",
          "data": {
            "text/plain": [
              "<keras.src.callbacks.History at 0x7bc49008a710>"
            ]
          },
          "metadata": {},
          "execution_count": 16
        }
      ],
      "source": [
        "model = Sequential()\n",
        "model.add(Dense(15, input_dim=30, activation='relu'))\n",
        "model.add(Dense(15, activation='relu'))\n",
        "model.add(Dense(15, activation='relu'))\n",
        "model.add(Dense(20, activation='relu'))\n",
        "model.add(Dense(1, activation='sigmoid'))\n",
        "model.compile(loss='binary_crossentropy', optimizer='adam',  metrics=['accuracy'])\n",
        "model.fit(X_train, y_train, epochs=30,batch_size=60)"
      ]
    },
    {
      "cell_type": "code",
      "execution_count": 17,
      "metadata": {
        "colab": {
          "base_uri": "https://localhost:8080/"
        },
        "id": "_xYOAbdKYX0U",
        "outputId": "202b66fd-751d-4dd7-f3ad-51036ecd78f2"
      },
      "outputs": [
        {
          "output_type": "stream",
          "name": "stdout",
          "text": [
            "8/8 [==============================] - 0s 3ms/step\n"
          ]
        }
      ],
      "source": [
        "predictions = np.argmax(model.predict(X_test), axis=-1)"
      ]
    },
    {
      "cell_type": "code",
      "execution_count": 18,
      "metadata": {
        "colab": {
          "base_uri": "https://localhost:8080/"
        },
        "id": "Qe9hTdBmYX0U",
        "outputId": "c2f4aa85-03c3-45ea-8595-5946183b0e9b"
      },
      "outputs": [
        {
          "output_type": "stream",
          "name": "stdout",
          "text": [
            "Accuracy: 0.24017467248908297\n"
          ]
        }
      ],
      "source": [
        "print('Accuracy:', metrics.accuracy_score(y_true=y_test, y_pred=predictions))"
      ]
    },
    {
      "cell_type": "code",
      "execution_count": 19,
      "metadata": {
        "colab": {
          "base_uri": "https://localhost:8080/"
        },
        "id": "wlj8jPGKYX0V",
        "outputId": "2d2aa10f-6c2b-42fb-8bce-19bfffea193b"
      },
      "outputs": [
        {
          "output_type": "stream",
          "name": "stdout",
          "text": [
            "              precision    recall  f1-score   support\n",
            "\n",
            "           0       0.24      1.00      0.39        55\n",
            "           1       0.00      0.00      0.00       174\n",
            "\n",
            "    accuracy                           0.24       229\n",
            "   macro avg       0.12      0.50      0.19       229\n",
            "weighted avg       0.06      0.24      0.09       229\n",
            "\n"
          ]
        },
        {
          "output_type": "stream",
          "name": "stderr",
          "text": [
            "/usr/local/lib/python3.10/dist-packages/sklearn/metrics/_classification.py:1344: UndefinedMetricWarning: Precision and F-score are ill-defined and being set to 0.0 in labels with no predicted samples. Use `zero_division` parameter to control this behavior.\n",
            "  _warn_prf(average, modifier, msg_start, len(result))\n",
            "/usr/local/lib/python3.10/dist-packages/sklearn/metrics/_classification.py:1344: UndefinedMetricWarning: Precision and F-score are ill-defined and being set to 0.0 in labels with no predicted samples. Use `zero_division` parameter to control this behavior.\n",
            "  _warn_prf(average, modifier, msg_start, len(result))\n",
            "/usr/local/lib/python3.10/dist-packages/sklearn/metrics/_classification.py:1344: UndefinedMetricWarning: Precision and F-score are ill-defined and being set to 0.0 in labels with no predicted samples. Use `zero_division` parameter to control this behavior.\n",
            "  _warn_prf(average, modifier, msg_start, len(result))\n"
          ]
        }
      ],
      "source": [
        "print(metrics.classification_report(y_true=y_test, y_pred=predictions))"
      ]
    },
    {
      "cell_type": "code",
      "source": [],
      "metadata": {
        "id": "xSkdRYYm6YKr"
      },
      "execution_count": 19,
      "outputs": []
    }
  ],
  "metadata": {
    "kernelspec": {
      "display_name": "Python 3",
      "name": "python3"
    },
    "language_info": {
      "codemirror_mode": {
        "name": "ipython",
        "version": 3
      },
      "file_extension": ".py",
      "mimetype": "text/x-python",
      "name": "python",
      "nbconvert_exporter": "python",
      "pygments_lexer": "ipython3",
      "version": "3.7.10"
    },
    "colab": {
      "provenance": [],
      "gpuType": "T4",
      "include_colab_link": true
    },
    "accelerator": "GPU"
  },
  "nbformat": 4,
  "nbformat_minor": 0
}